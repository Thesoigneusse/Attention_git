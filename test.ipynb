{
 "cells": [
  {
   "cell_type": "markdown",
   "metadata": {},
   "source": [
    "# Process Concaténation model"
   ]
  },
  {
   "cell_type": "code",
   "execution_count": 74,
   "metadata": {},
   "outputs": [
    {
     "name": "stdout",
     "output_type": "stream",
     "text": [
      "dict_keys(['id', 'src_tokens', 'src_segments_labels', 'tgt_tokens', 'tgt_eos_pos', 'enc_attn', 'dec_attn', 'heads_enc_attn', 'heads_dec_attn'])\n"
     ]
    }
   ],
   "source": [
    "from Snt import Snt\n",
    "import Utils_data\n",
    "import Utils_concat\n",
    "import importlib\n",
    "importlib.reload(Utils_data)\n",
    "importlib.reload(Utils_concat)\n",
    "\n",
    "id = 1850\n",
    "r_path=f\"/home/getalp/lopezfab/lig/temp/temp/test_attn/{id}.json\"\n",
    "data=Utils_data.lecture_data(r_path)\n",
    "\n",
    "print(data.keys())\n",
    "\n",
    "\n",
    "# Traitement des Phrases extraites\n",
    "ssl = data['src_segments_labels']\n",
    "src = Snt(identifiant=-1, tokens=Utils_concat.ajoute_eos_tokens_src(_snt=data[\"src_tokens\"].split(), src_segments_labels=ssl))"
   ]
  }
 ],
 "metadata": {
  "kernelspec": {
   "display_name": "Python 3",
   "language": "python",
   "name": "python3"
  },
  "language_info": {
   "codemirror_mode": {
    "name": "ipython",
    "version": 3
   },
   "file_extension": ".py",
   "mimetype": "text/x-python",
   "name": "python",
   "nbconvert_exporter": "python",
   "pygments_lexer": "ipython3",
   "version": "3.8.10"
  }
 },
 "nbformat": 4,
 "nbformat_minor": 4
}
