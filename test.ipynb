{
 "cells": [
  {
   "cell_type": "markdown",
   "metadata": {},
   "source": [
    "# Process Concaténation model"
   ]
  },
  {
   "cell_type": "code",
   "execution_count": null,
   "metadata": {},
   "outputs": [
    {
     "name": "stdout",
     "output_type": "stream",
     "text": [
      "[DEBUG] id: 0\n",
      "[DEBUG] id: 1\n",
      "[DEBUG] Création du dossier : /home/getalp/lopezfab/Documents/concat/1/0\n",
      "[DEBUG] Création du dossier : /home/getalp/lopezfab/Documents/concat/1/1\n",
      "[DEBUG] Création du dossier : /home/getalp/lopezfab/Documents/concat/1/2\n",
      "[DEBUG] Création du dossier : /home/getalp/lopezfab/Documents/concat/1/3\n",
      "[DEBUG] Création du dossier : /home/getalp/lopezfab/Documents/concat/1/4\n",
      "[DEBUG] Création du dossier : /home/getalp/lopezfab/Documents/concat/1/5\n",
      "[DEBUG] id: 2\n",
      "[DEBUG] Création du dossier : /home/getalp/lopezfab/Documents/concat/2/0\n",
      "[DEBUG] Création du dossier : /home/getalp/lopezfab/Documents/concat/2/1\n",
      "[DEBUG] Création du dossier : /home/getalp/lopezfab/Documents/concat/2/2\n",
      "[DEBUG] Création du dossier : /home/getalp/lopezfab/Documents/concat/2/3\n",
      "[DEBUG] Création du dossier : /home/getalp/lopezfab/Documents/concat/2/4\n",
      "[DEBUG] Création du dossier : /home/getalp/lopezfab/Documents/concat/2/5\n",
      "[DEBUG] id: 3\n",
      "[DEBUG] Création du dossier : /home/getalp/lopezfab/Documents/concat/3/0\n",
      "[DEBUG] Création du dossier : /home/getalp/lopezfab/Documents/concat/3/1\n",
      "[DEBUG] Création du dossier : /home/getalp/lopezfab/Documents/concat/3/2\n",
      "[DEBUG] Création du dossier : /home/getalp/lopezfab/Documents/concat/3/3\n",
      "[DEBUG] Création du dossier : /home/getalp/lopezfab/Documents/concat/3/4\n",
      "[DEBUG] Création du dossier : /home/getalp/lopezfab/Documents/concat/3/5\n",
      "[DEBUG] id: 4\n",
      "[DEBUG] Création du dossier : /home/getalp/lopezfab/Documents/concat/4/0\n",
      "[DEBUG] Création du dossier : /home/getalp/lopezfab/Documents/concat/4/1\n",
      "[DEBUG] Création du dossier : /home/getalp/lopezfab/Documents/concat/4/2\n",
      "[DEBUG] Création du dossier : /home/getalp/lopezfab/Documents/concat/4/3\n",
      "[DEBUG] Création du dossier : /home/getalp/lopezfab/Documents/concat/4/4\n",
      "[DEBUG] Création du dossier : /home/getalp/lopezfab/Documents/concat/4/5\n",
      "[DEBUG] id: 5\n",
      "[DEBUG] Création du dossier : /home/getalp/lopezfab/Documents/concat/5/0\n",
      "[DEBUG] Création du dossier : /home/getalp/lopezfab/Documents/concat/5/1\n",
      "[DEBUG] Création du dossier : /home/getalp/lopezfab/Documents/concat/5/2\n",
      "[DEBUG] Création du dossier : /home/getalp/lopezfab/Documents/concat/5/3\n",
      "[DEBUG] Création du dossier : /home/getalp/lopezfab/Documents/concat/5/4\n",
      "[DEBUG] Création du dossier : /home/getalp/lopezfab/Documents/concat/5/5\n",
      "[DEBUG] id: 6\n",
      "[DEBUG] Création du dossier : /home/getalp/lopezfab/Documents/concat/6/0\n",
      "[DEBUG] Création du dossier : /home/getalp/lopezfab/Documents/concat/6/1\n",
      "[DEBUG] Création du dossier : /home/getalp/lopezfab/Documents/concat/6/2\n",
      "[DEBUG] Création du dossier : /home/getalp/lopezfab/Documents/concat/6/3\n",
      "[DEBUG] Création du dossier : /home/getalp/lopezfab/Documents/concat/6/4\n",
      "[DEBUG] Création du dossier : /home/getalp/lopezfab/Documents/concat/6/5\n",
      "[DEBUG] id: 7\n",
      "[DEBUG] Création du dossier : /home/getalp/lopezfab/Documents/concat/7/0\n",
      "[DEBUG] Création du dossier : /home/getalp/lopezfab/Documents/concat/7/1\n",
      "[DEBUG] Création du dossier : /home/getalp/lopezfab/Documents/concat/7/2\n",
      "[DEBUG] Création du dossier : /home/getalp/lopezfab/Documents/concat/7/3\n",
      "[DEBUG] Création du dossier : /home/getalp/lopezfab/Documents/concat/7/4\n",
      "[DEBUG] Création du dossier : /home/getalp/lopezfab/Documents/concat/7/5\n",
      "[DEBUG] id: 8\n",
      "[DEBUG] Création du dossier : /home/getalp/lopezfab/Documents/concat/8/0\n"
     ]
    },
    {
     "ename": "KeyboardInterrupt",
     "evalue": "",
     "output_type": "error",
     "traceback": [
      "\u001b[0;31m---------------------------------------------------------------------------\u001b[0m",
      "\u001b[0;31mKeyboardInterrupt\u001b[0m                         Traceback (most recent call last)",
      "Cell \u001b[0;32mIn[4], line 65\u001b[0m\n\u001b[1;32m     63\u001b[0m layers[layer][head]\u001b[38;5;241m.\u001b[39msuppr_inf()\n\u001b[1;32m     64\u001b[0m layers[layer][head]\u001b[38;5;241m.\u001b[39mnorm_tensor()\n\u001b[0;32m---> 65\u001b[0m \u001b[43mlayers\u001b[49m\u001b[43m[\u001b[49m\u001b[43mlayer\u001b[49m\u001b[43m]\u001b[49m\u001b[43m[\u001b[49m\u001b[43mhead\u001b[49m\u001b[43m]\u001b[49m\u001b[38;5;241;43m.\u001b[39;49m\u001b[43mecriture_xslx\u001b[49m\u001b[43m(\u001b[49m\u001b[43mcrt\u001b[49m\u001b[38;5;241;43m=\u001b[39;49m\u001b[43mcrt\u001b[49m\u001b[43m,\u001b[49m\u001b[43m \u001b[49m\u001b[43mctx\u001b[49m\u001b[38;5;241;43m=\u001b[39;49m\u001b[43mfull_ctx\u001b[49m\u001b[43m,\u001b[49m\u001b[43m \u001b[49m\u001b[43mprecision\u001b[49m\u001b[38;5;241;43m=\u001b[39;49m\u001b[43m \u001b[49m\u001b[38;5;241;43m4\u001b[39;49m\u001b[43m,\u001b[49m\u001b[43m \u001b[49m\u001b[43mabsolute_folder\u001b[49m\u001b[38;5;241;43m=\u001b[39;49m\u001b[38;5;124;43mf\u001b[39;49m\u001b[38;5;124;43m\"\u001b[39;49m\u001b[38;5;132;43;01m{\u001b[39;49;00m\u001b[43m_OUTPUT_PATH\u001b[49m\u001b[38;5;132;43;01m}\u001b[39;49;00m\u001b[38;5;124;43m/\u001b[39;49m\u001b[38;5;132;43;01m{\u001b[39;49;00m\u001b[43mlayer\u001b[49m\u001b[38;5;132;43;01m}\u001b[39;49;00m\u001b[38;5;124;43m\"\u001b[39;49m\u001b[43m,\u001b[49m\u001b[43m \u001b[49m\u001b[43mfilename\u001b[49m\u001b[38;5;241;43m=\u001b[39;49m\u001b[38;5;124;43mf\u001b[39;49m\u001b[38;5;124;43m\"\u001b[39;49m\u001b[38;5;132;43;01m{\u001b[39;49;00m\u001b[43mhead\u001b[49m\u001b[38;5;132;43;01m}\u001b[39;49;00m\u001b[38;5;124;43m\"\u001b[39;49m\u001b[43m,\u001b[49m\u001b[43m \u001b[49m\u001b[43mcreate_folder_path\u001b[49m\u001b[38;5;241;43m=\u001b[39;49m\u001b[38;5;28;43;01mTrue\u001b[39;49;00m\u001b[43m)\u001b[49m\n",
      "File \u001b[0;32m~/Bureau/Attention_git/Matrice.py:273\u001b[0m, in \u001b[0;36mMatrice.ecriture_xslx\u001b[0;34m(self, crt, ctx, absolute_folder, filename, precision, create_folder_path)\u001b[0m\n\u001b[1;32m    271\u001b[0m     worksheet\u001b[38;5;241m.\u001b[39mwrite(row_idx \u001b[38;5;241m+\u001b[39m \u001b[38;5;241m1\u001b[39m, col_idx \u001b[38;5;241m+\u001b[39m \u001b[38;5;241m1\u001b[39m, \u001b[38;5;28mstr\u001b[39m(value)[:\u001b[38;5;241m2\u001b[39m\u001b[38;5;241m+\u001b[39mprecision], highlight_format)\n\u001b[1;32m    272\u001b[0m \u001b[38;5;28;01melif\u001b[39;00m value \u001b[38;5;241m==\u001b[39m \u001b[38;5;241m0.0\u001b[39m:\n\u001b[0;32m--> 273\u001b[0m     \u001b[43mworksheet\u001b[49m\u001b[38;5;241;43m.\u001b[39;49m\u001b[43mwrite\u001b[49m\u001b[43m(\u001b[49m\u001b[43mrow_idx\u001b[49m\u001b[43m \u001b[49m\u001b[38;5;241;43m+\u001b[39;49m\u001b[43m \u001b[49m\u001b[38;5;241;43m1\u001b[39;49m\u001b[43m,\u001b[49m\u001b[43m \u001b[49m\u001b[43mcol_idx\u001b[49m\u001b[43m \u001b[49m\u001b[38;5;241;43m+\u001b[39;49m\u001b[43m \u001b[49m\u001b[38;5;241;43m1\u001b[39;49m\u001b[43m,\u001b[49m\u001b[43m \u001b[49m\u001b[38;5;124;43m\"\u001b[39;49m\u001b[38;5;124;43m.\u001b[39;49m\u001b[38;5;124;43m\"\u001b[39;49m\u001b[43m)\u001b[49m\n\u001b[1;32m    274\u001b[0m \u001b[38;5;28;01melse\u001b[39;00m:\n\u001b[1;32m    275\u001b[0m     worksheet\u001b[38;5;241m.\u001b[39mwrite(row_idx \u001b[38;5;241m+\u001b[39m \u001b[38;5;241m1\u001b[39m, col_idx \u001b[38;5;241m+\u001b[39m \u001b[38;5;241m1\u001b[39m, \u001b[38;5;28mstr\u001b[39m(value)[:\u001b[38;5;241m2\u001b[39m\u001b[38;5;241m+\u001b[39mprecision])\n",
      "File \u001b[0;32m~/.local/lib/python3.8/site-packages/xlsxwriter/worksheet.py:107\u001b[0m, in \u001b[0;36mconvert_cell_args.<locals>.cell_wrapper\u001b[0;34m(self, *args, **kwargs)\u001b[0m\n\u001b[1;32m    104\u001b[0m     new_args \u001b[38;5;241m=\u001b[39m xl_cell_to_rowcol(first_arg)\n\u001b[1;32m    105\u001b[0m     args \u001b[38;5;241m=\u001b[39m new_args \u001b[38;5;241m+\u001b[39m args[\u001b[38;5;241m1\u001b[39m:]\n\u001b[0;32m--> 107\u001b[0m \u001b[38;5;28;01mreturn\u001b[39;00m \u001b[43mmethod\u001b[49m\u001b[43m(\u001b[49m\u001b[38;5;28;43mself\u001b[39;49m\u001b[43m,\u001b[49m\u001b[43m \u001b[49m\u001b[38;5;241;43m*\u001b[39;49m\u001b[43margs\u001b[49m\u001b[43m,\u001b[49m\u001b[43m \u001b[49m\u001b[38;5;241;43m*\u001b[39;49m\u001b[38;5;241;43m*\u001b[39;49m\u001b[43mkwargs\u001b[49m\u001b[43m)\u001b[49m\n",
      "File \u001b[0;32m~/.local/lib/python3.8/site-packages/xlsxwriter/worksheet.py:478\u001b[0m, in \u001b[0;36mWorksheet.write\u001b[0;34m(self, row, col, *args)\u001b[0m\n\u001b[1;32m    461\u001b[0m \u001b[38;5;129m@convert_cell_args\u001b[39m\n\u001b[1;32m    462\u001b[0m \u001b[38;5;28;01mdef\u001b[39;00m \u001b[38;5;21mwrite\u001b[39m(\u001b[38;5;28mself\u001b[39m, row, col, \u001b[38;5;241m*\u001b[39margs):\n\u001b[1;32m    463\u001b[0m \u001b[38;5;250m    \u001b[39m\u001b[38;5;124;03m\"\"\"\u001b[39;00m\n\u001b[1;32m    464\u001b[0m \u001b[38;5;124;03m    Write data to a worksheet cell by calling the appropriate write_*()\u001b[39;00m\n\u001b[1;32m    465\u001b[0m \u001b[38;5;124;03m    method based on the type of data being passed.\u001b[39;00m\n\u001b[0;32m   (...)\u001b[0m\n\u001b[1;32m    476\u001b[0m \n\u001b[1;32m    477\u001b[0m \u001b[38;5;124;03m    \"\"\"\u001b[39;00m\n\u001b[0;32m--> 478\u001b[0m     \u001b[38;5;28;01mreturn\u001b[39;00m \u001b[38;5;28;43mself\u001b[39;49m\u001b[38;5;241;43m.\u001b[39;49m\u001b[43m_write\u001b[49m\u001b[43m(\u001b[49m\u001b[43mrow\u001b[49m\u001b[43m,\u001b[49m\u001b[43m \u001b[49m\u001b[43mcol\u001b[49m\u001b[43m,\u001b[49m\u001b[43m \u001b[49m\u001b[38;5;241;43m*\u001b[39;49m\u001b[43margs\u001b[49m\u001b[43m)\u001b[49m\n",
      "File \u001b[0;32m~/.local/lib/python3.8/site-packages/xlsxwriter/worksheet.py:516\u001b[0m, in \u001b[0;36mWorksheet._write\u001b[0;34m(self, row, col, *args)\u001b[0m\n\u001b[1;32m    513\u001b[0m \u001b[38;5;28;01mif\u001b[39;00m token_type \u001b[38;5;129;01min\u001b[39;00m (\u001b[38;5;28mfloat\u001b[39m, \u001b[38;5;28mint\u001b[39m, Decimal, Fraction):\n\u001b[1;32m    514\u001b[0m     \u001b[38;5;28;01mreturn\u001b[39;00m \u001b[38;5;28mself\u001b[39m\u001b[38;5;241m.\u001b[39m_write_number(row, col, \u001b[38;5;241m*\u001b[39margs)\n\u001b[0;32m--> 516\u001b[0m \u001b[38;5;28;01mif\u001b[39;00m token_type \u001b[38;5;129;01mis\u001b[39;00m \u001b[38;5;28;43mstr\u001b[39;49m:\n\u001b[1;32m    517\u001b[0m     \u001b[38;5;28;01mreturn\u001b[39;00m \u001b[38;5;28mself\u001b[39m\u001b[38;5;241m.\u001b[39m_write_token_as_string(token, row, col, \u001b[38;5;241m*\u001b[39margs)\n\u001b[1;32m    519\u001b[0m \u001b[38;5;28;01mif\u001b[39;00m token_type \u001b[38;5;129;01min\u001b[39;00m (\n\u001b[1;32m    520\u001b[0m     datetime\u001b[38;5;241m.\u001b[39mdatetime,\n\u001b[1;32m    521\u001b[0m     datetime\u001b[38;5;241m.\u001b[39mdate,\n\u001b[1;32m    522\u001b[0m     datetime\u001b[38;5;241m.\u001b[39mtime,\n\u001b[1;32m    523\u001b[0m     datetime\u001b[38;5;241m.\u001b[39mtimedelta,\n\u001b[1;32m    524\u001b[0m ):\n",
      "\u001b[0;31mKeyboardInterrupt\u001b[0m: "
     ]
    }
   ],
   "source": [
    "import torch\n",
    "from Snt import Snt\n",
    "from Matrice import Matrice\n",
    "import Utils_data\n",
    "import Utils_concat\n",
    "import importlib\n",
    "importlib.reload(Utils_data)\n",
    "importlib.reload(Utils_concat)\n",
    "\n",
    "id = 1850\n",
    "for id in range(2308):\n",
    "    print(f\"[DEBUG] id: {id}\")\n",
    "    r_path=f\"/home/getalp/lopezfab/lig/temp/temp/test_attn/{id}.json\"\n",
    "    data=Utils_data.lecture_data(r_path)\n",
    "    _OUTPUT_PATH=f\"/home/getalp/lopezfab/Documents/concat/{id}\"\n",
    "\n",
    "    # Traitement des Phrases extraites\n",
    "    ssl = data['src_segments_labels']\n",
    "    src = Snt(identifiant=-1, tokens=Utils_concat.ajoute_eos_tokens_src(_snt=data[\"src_tokens\"].split(), src_segments_labels=ssl))\n",
    "    src_cutted = Utils_concat.full_sentence_to_ctx_and_crt(src)\n",
    "    for i in range(len(src_cutted)-1, -1, -1):\n",
    "        if src_cutted[i] == [\"<eos>\"]:\n",
    "            del src_cutted[i]\n",
    "    if len(src_cutted) > 1:\n",
    "        # Extraction des phrases de contexte et de la phrase courante\n",
    "        ctxs = []\n",
    "        for k in range(len(src_cutted[:-1])):\n",
    "            ctxs.append(Snt(identifiant=int(data[\"id\"]) - len(src_cutted[k:-1]), tokens = src_cutted[k]))\n",
    "        full_ctx = Snt(identifiant= id - len(ctxs), tokens= ctxs[0].tokens)\n",
    "        # print(f\"[debug] len(full_ctx): {len(full_ctx)}\")\n",
    "        if len(ctxs) > 1:\n",
    "            for snt in ctxs[1:]:\n",
    "                full_ctx.tokens += snt.tokens\n",
    "                # print(f\"[debug] len(full_ctx): {len(full_ctx)}\")\n",
    "        crt = Snt(identifiant=data['id'], tokens= src_cutted[-1])\n",
    "        full_ctx.tokens += crt.tokens\n",
    "\n",
    "        # Extraction des différentes matrices à travers les 6 layers et les 8 têtes d'attention de chaque layer\n",
    "        layers = []\n",
    "        for layer in range(len(data['heads_enc_attn'])): # Pour chaque layer\n",
    "            heads = []\n",
    "            for head in range(len(data['heads_enc_attn'][layer])): # on extrait chaque tête par layer\n",
    "                full_matrice = torch.tensor(data['heads_enc_attn'][layer][head])\n",
    "                full_matrice = full_matrice.squeeze() # on supprime une dimension qui semble inutile (=1)\n",
    "                heads.append(Matrice(full_matrice))\n",
    "            layers.append(heads)\n",
    "\n",
    "        # layers : L x [nb_heads x [torch.Tensor(N x N)]]\n",
    "        # print((f\"[DEBUG] taille des matrices: {layers[0][0].matrice.size()}\"))\n",
    "        # print(f\"[DEBUG] taille des phrases complète vs tailles respectives: {sum([len(ctx) for ctx in ctxs] + [len(crt)])} vs. [{[len(ctx) for ctx in ctxs]}, {len(crt)}]\")\n",
    "\n",
    "        # Pour chaque layer, pour chaque tête d'attention, on découpe la matrice en combinaison de k3*k3, k3*k2... k2*k3, k2*k2,... crt*crt\n",
    "        for layer in range(len(layers)):\n",
    "            for head in range(len(layers[layer])):\n",
    "                full_matrice_cutted = Utils_concat.cut_matrix_into_sentences(layers[layer][head], src_cutted)\n",
    "                # Dernière liste correspond à la phrase courante vers les phrases de contexte et la phrase courante\n",
    "                layers[layer][head].matrice = torch.cat([matrice.matrice for matrice in full_matrice_cutted[-1][:-1]], dim = 1) # Remplacer [:] par [:-1] pour n'avoir que le contexte\n",
    "        # print(f\"[DEBUG] taille de la matrice découpée: {[matrice.matrice.size() for matrice in full_matrice_cutted[-1]]}\")\n",
    "        # print(f\"[DEBUG] taille de la matrice reconstituée: {layers[layer][head].matrice.size()}\")\n",
    "        # print(f\"[DEBUG] élément matrice: {layers[0][0].matrice[0:2, 3:9]}\")\n",
    "        for layer in range(len(layers)):\n",
    "            for head in range(len(layers[layer])):\n",
    "                layers[layer][head].suppr_inf()\n",
    "                layers[layer][head].norm_tensor()\n",
    "                layers[layer][head].ecriture_xslx(crt=crt, ctx=full_ctx, precision= 4, absolute_folder=f\"{_OUTPUT_PATH}/full_matrice/{layer}\", filename=f\"{head}\", create_folder_path=True)"
   ]
  },
  {
   "cell_type": "code",
   "execution_count": 11,
   "metadata": {},
   "outputs": [
    {
     "name": "stdout",
     "output_type": "stream",
     "text": [
      "[{'_matrice': tensor([[70., 71.],\n",
      "        [80., 81.],\n",
      "        [90., 91.]])}, {'_matrice': tensor([[72., 73., 74.],\n",
      "        [82., 83., 84.],\n",
      "        [92., 93., 94.]])}, {'_matrice': tensor([[75., 76.],\n",
      "        [85., 86.],\n",
      "        [95., 96.]])}, {'_matrice': tensor([[77., 78., 79.],\n",
      "        [87., 88., 89.],\n",
      "        [97., 98., 99.]])}]\n"
     ]
    }
   ],
   "source": [
    "import Utils_concat as uc\n",
    "import importlib\n",
    "importlib.reload(uc)\n",
    "\n",
    "liste_10_x_10 = [[0 , 1, 2, 3, 4, 5, 6, 7, 8, 9], [10,11,12,13,14,15,16,17,18,19], [20,21,22,23,24,25,26,27,28,29], [30,31,32,33,34,35,36,37,38,39], [40,41,42,43,44,45,46,47,48,49], [50,51,52,53,54,55,56,57,58,59], [60,61,62,63,64,65,66,67,68,69], [70,71,72,73,74,75,76,77,78,79], [80,81,82,83,84,85,86,87,88,89], [90,91,92,93,94,95,96,97,98,99]]\n",
    "snts = [Snt(identifiant=0, tokens = [\"k3t1\", \"k3t2\"]), Snt(identifiant=1, tokens = [\"k2t1\", \"k2t2\", \"k2t3\"]), Snt(identifiant=2, tokens = [\"k1t1\", \"k1t2\"]), Snt(identifiant=3, tokens = [\"k0t1\", \"k0t2\", \"k0t3\"])]\n",
    "m1 = Matrice(torch.Tensor(liste_10_x_10))\n",
    "print(uc.cut_matrix_into_sentences(m1, snts)[-1])\n"
   ]
  },
  {
   "cell_type": "code",
   "execution_count": 16,
   "metadata": {},
   "outputs": [
    {
     "name": "stdout",
     "output_type": "stream",
     "text": [
      "torch.Size([138, 138])\n",
      "138\n"
     ]
    }
   ],
   "source": [
    "print(layers[0][0].matrice.size())\n",
    "    \n",
    "print(sum([len(ctx) for ctx in ctxs] + [len(crt)]))"
   ]
  }
 ],
 "metadata": {
  "kernelspec": {
   "display_name": "Python 3",
   "language": "python",
   "name": "python3"
  },
  "language_info": {
   "codemirror_mode": {
    "name": "ipython",
    "version": 3
   },
   "file_extension": ".py",
   "mimetype": "text/x-python",
   "name": "python",
   "nbconvert_exporter": "python",
   "pygments_lexer": "ipython3",
   "version": "3.8.10"
  }
 },
 "nbformat": 4,
 "nbformat_minor": 4
}
